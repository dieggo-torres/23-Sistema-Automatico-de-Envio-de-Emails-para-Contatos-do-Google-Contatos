{
 "cells": [
  {
   "cell_type": "code",
   "execution_count": 1,
   "id": "816e81f3",
   "metadata": {},
   "outputs": [],
   "source": [
    "# Importa a biblioteca pyautogui\n",
    "import pyautogui\n",
    "\n",
    "# Importa a biblioteca time\n",
    "import time\n",
    "\n",
    "# Importa a biblioteca pyperclip\n",
    "import pyperclip\n",
    "\n",
    "\n",
    "def esperar_pagina_carregar(img):\n",
    "    '''Espera até que a imagem apareça na tela para poder executar uma ação.'''\n",
    "\n",
    "    while not pyautogui.locateOnScreen(img):\n",
    "        time.sleep(0.5)\n",
    "        \n",
    "\n",
    "def copiar_colar(conteudo):\n",
    "    '''Copia o conteúdo para a área de transferência e depois cola'''\n",
    "    # Copia conteúdo para a área de transferência\n",
    "    pyperclip.copy(conteudo)\n",
    "    \n",
    "    # Cola o conteúdo\n",
    "    pyautogui.hotkey('ctrl', 'v')"
   ]
  }
 ],
 "metadata": {
  "kernelspec": {
   "display_name": "Python 3 (ipykernel)",
   "language": "python",
   "name": "python3"
  },
  "language_info": {
   "codemirror_mode": {
    "name": "ipython",
    "version": 3
   },
   "file_extension": ".py",
   "mimetype": "text/x-python",
   "name": "python",
   "nbconvert_exporter": "python",
   "pygments_lexer": "ipython3",
   "version": "3.9.7"
  }
 },
 "nbformat": 4,
 "nbformat_minor": 5
}
